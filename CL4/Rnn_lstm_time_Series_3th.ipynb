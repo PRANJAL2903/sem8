{
  "nbformat": 4,
  "nbformat_minor": 0,
  "metadata": {
    "colab": {
      "provenance": []
    },
    "kernelspec": {
      "name": "python3",
      "display_name": "Python 3"
    },
    "language_info": {
      "name": "python"
    }
  },
  "cells": [
    {
      "cell_type": "code",
      "execution_count": null,
      "metadata": {
        "id": "CeulevU0ab81"
      },
      "outputs": [],
      "source": [
        "import tensorflow as tf\n",
        "from tensorflow.keras.datasets import imdb\n",
        "from tensorflow.keras.models import Sequential\n",
        "from tensorflow.keras.layers import Embedding, LSTM, Dense\n",
        "from tensorflow.keras.preprocessing.sequence import pad_sequences"
      ]
    },
    {
      "cell_type": "code",
      "source": [
        "# Set the parameters\n",
        "max_features = 10000 # Number of words to consider as features\n",
        "maxlen = 100 # Cut texts after this number of words (among top max_features most common words)\n",
        "batch_size = 32"
      ],
      "metadata": {
        "id": "SM3nlDIsamhL"
      },
      "execution_count": null,
      "outputs": []
    },
    {
      "cell_type": "code",
      "source": [
        "# Load the IMDB dataset\n",
        "(x_train, y_train), (x_test, y_test) = imdb.load_data(num_words=max_features)\n"
      ],
      "metadata": {
        "colab": {
          "base_uri": "https://localhost:8080/"
        },
        "id": "WeTgecYAav3u",
        "outputId": "3db44ffc-fc54-40c7-ac57-ad58a85a9e43"
      },
      "execution_count": null,
      "outputs": [
        {
          "output_type": "stream",
          "name": "stdout",
          "text": [
            "Downloading data from https://storage.googleapis.com/tensorflow/tf-keras-datasets/imdb.npz\n",
            "17464789/17464789 [==============================] - 0s 0us/step\n"
          ]
        }
      ]
    },
    {
      "cell_type": "code",
      "source": [
        "# Pad sequences to have a consistent length for the input to the RNN\n",
        "x_train = pad_sequences(x_train, maxlen=maxlen)\n",
        "x_test = pad_sequences(x_test, maxlen=maxlen)"
      ],
      "metadata": {
        "id": "XvZPHZOwazcA"
      },
      "execution_count": null,
      "outputs": []
    },
    {
      "cell_type": "code",
      "source": [
        "# Build the RNN model with LSTM\n",
        "model = Sequential()\n",
        "model.add(Embedding(max_features, 128))\n",
        "model.add(LSTM(64,dropout=0.2, recurrent_dropout=0.2))\n",
        "model.add(Dense(1,activation='sigmoid'))"
      ],
      "metadata": {
        "id": "NCB4vCEXa6n3"
      },
      "execution_count": null,
      "outputs": []
    },
    {
      "cell_type": "code",
      "source": [
        "# Compile the model\n",
        "model.compile(loss='binary_crossentropy',\n",
        "optimizer='adam', metrics=['accuracy'])"
      ],
      "metadata": {
        "id": "OsV4QNBlbAau"
      },
      "execution_count": null,
      "outputs": []
    },
    {
      "cell_type": "code",
      "source": [
        "# Train the model\n",
        "model.fit(x_train, y_train,\n",
        "batch_size=batch_size, epochs=5,\n",
        "validation_data=(x_test, y_test))"
      ],
      "metadata": {
        "colab": {
          "base_uri": "https://localhost:8080/"
        },
        "id": "svLXUf4qbCPW",
        "outputId": "dff2fb2a-392f-4ae4-b1a4-90a74258f7e4"
      },
      "execution_count": null,
      "outputs": [
        {
          "output_type": "stream",
          "name": "stdout",
          "text": [
            "Epoch 1/5\n",
            "782/782 [==============================] - 167s 209ms/step - loss: 0.4153 - accuracy: 0.8102 - val_loss: 0.3417 - val_accuracy: 0.8508\n",
            "Epoch 2/5\n",
            "782/782 [==============================] - 164s 209ms/step - loss: 0.2674 - accuracy: 0.8931 - val_loss: 0.3801 - val_accuracy: 0.8452\n",
            "Epoch 3/5\n",
            "782/782 [==============================] - 164s 210ms/step - loss: 0.1983 - accuracy: 0.9236 - val_loss: 0.3695 - val_accuracy: 0.8444\n",
            "Epoch 4/5\n",
            "782/782 [==============================] - 165s 211ms/step - loss: 0.1505 - accuracy: 0.9444 - val_loss: 0.4478 - val_accuracy: 0.8393\n",
            "Epoch 5/5\n",
            "782/782 [==============================] - 166s 212ms/step - loss: 0.1139 - accuracy: 0.9584 - val_loss: 0.4974 - val_accuracy: 0.8382\n"
          ]
        },
        {
          "output_type": "execute_result",
          "data": {
            "text/plain": [
              "<keras.src.callbacks.History at 0x7805db80b8e0>"
            ]
          },
          "metadata": {},
          "execution_count": 8
        }
      ]
    },
    {
      "cell_type": "code",
      "source": [
        "# Evaluate the model\n",
        "score, acc = model.evaluate(x_test, y_test, batch_size=batch_size)\n",
        "print(f'Test score:{score}')\n",
        "print(f'Test accuracy: {acc}')"
      ],
      "metadata": {
        "colab": {
          "base_uri": "https://localhost:8080/"
        },
        "id": "1juTJ5MfbMHW",
        "outputId": "e5badef9-4ab9-4a21-b14b-2311fba61d3e"
      },
      "execution_count": null,
      "outputs": [
        {
          "output_type": "stream",
          "name": "stdout",
          "text": [
            "782/782 [==============================] - 21s 26ms/step - loss: 0.4974 - accuracy: 0.8382\n",
            "Test score:0.4973607361316681\n",
            "Test accuracy: 0.8382400274276733\n"
          ]
        }
      ]
    },
    {
      "cell_type": "code",
      "source": [],
      "metadata": {
        "id": "D04T1nA0eZe0"
      },
      "execution_count": null,
      "outputs": []
    }
  ]
}