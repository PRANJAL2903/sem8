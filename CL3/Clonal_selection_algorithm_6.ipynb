{
  "nbformat": 4,
  "nbformat_minor": 0,
  "metadata": {
    "colab": {
      "provenance": []
    },
    "kernelspec": {
      "name": "python3",
      "display_name": "Python 3"
    },
    "language_info": {
      "name": "python"
    }
  },
  "cells": [
    {
      "cell_type": "code",
      "execution_count": null,
      "metadata": {
        "id": "u4RXxtUa_NSa"
      },
      "outputs": [],
      "source": [
        "import random\n",
        "import numpy as np"
      ]
    },
    {
      "cell_type": "code",
      "source": [
        "# Define the objective function\n",
        "def objective_function(x):\n",
        "# Example: Sphere function\n",
        "  return sum([i**2 for i in x])"
      ],
      "metadata": {
        "id": "Yo1frYHw_YZr"
      },
      "execution_count": null,
      "outputs": []
    },
    {
      "cell_type": "code",
      "source": [
        "# Initialize population\n",
        "def initialize_population(pop_size, dimensions, lower_bound, upper_bound):\n",
        "  population = []\n",
        "  for _ in range(pop_size):\n",
        "    individual = np.random.uniform(lower_bound, upper_bound, dimensions)\n",
        "    population.append(individual)\n",
        "  return population"
      ],
      "metadata": {
        "id": "m2L7NcQu_awr"
      },
      "execution_count": null,
      "outputs": []
    },
    {
      "cell_type": "code",
      "source": [
        "# Clone an individual\n",
        "def clone_individual(individual, clone_factor):\n",
        "  clones = []\n",
        "  for _ in range(clone_factor):\n",
        "    clone = np.array(individual)\n",
        "    for i in range(len(clone)):\n",
        "      mutation_rate = random.uniform(0, 1)\n",
        "      if mutation_rate < 0.5:\n",
        "        clone[i] += random.uniform(-1, 1)\n",
        "        clones.append(clone)\n",
        "  return clones"
      ],
      "metadata": {
        "id": "fiDMmhh__jrB"
      },
      "execution_count": null,
      "outputs": []
    },
    {
      "cell_type": "code",
      "source": [
        "# Select the best individuals\n",
        "\n",
        "def select_best(population, num_selected, num_clones, clone_factor):\n",
        "  population.sort(key=lambda x: objective_function(x))\n",
        "  selected = []\n",
        "  for i in range(num_selected):\n",
        "    clones = clone_individual(population[i], clone_factor)\n",
        "    selected.extend(clones)\n",
        "  return selected[:num_clones]"
      ],
      "metadata": {
        "id": "wrDAb3hD_t4C"
      },
      "execution_count": null,
      "outputs": []
    },
    {
      "cell_type": "code",
      "source": [
        "def clonal_selection_algorithm(pop_size, dimensions, lower_bound, upper_bound,\n",
        "                               num_generations, num_selected, num_clones, clone_factor):\n",
        "    population = initialize_population(pop_size, dimensions, lower_bound, upper_bound)\n",
        "    for _ in range(num_generations):\n",
        "        selected = select_best(population, num_selected, num_clones, clone_factor)\n",
        "        # Replace only the worst individuals with the selected ones\n",
        "        population[-len(selected):] = selected\n",
        "    best_solution = min(population, key=lambda x: objective_function(x))\n",
        "    return best_solution, objective_function(best_solution)\n"
      ],
      "metadata": {
        "id": "4Ed8qvhY_1s-"
      },
      "execution_count": null,
      "outputs": []
    },
    {
      "cell_type": "code",
      "source": [
        "# Example usage\n",
        "if __name__ == \"__main__\":\n",
        "  pop_size = 100\n",
        "  dimensions = 2\n",
        "  lower_bound = -5.0\n",
        "  upper_bound = 5.0\n",
        "  num_generations = 100\n",
        "  num_selected = 10\n",
        "  num_clones = 5\n",
        "  clone_factor = 3\n",
        "\n",
        "  best_solution, best_fitness = clonal_selection_algorithm(pop_size, dimensions, lower_bound,upper_bound, num_generations, num_selected, num_clones, clone_factor)\n",
        "  print(\"Best solution:\", best_solution)\n",
        "\n",
        "  print(\"Best fitness:\", best_fitness)"
      ],
      "metadata": {
        "colab": {
          "base_uri": "https://localhost:8080/"
        },
        "id": "Qz_SXpB1_8HU",
        "outputId": "35cb2bf2-2462-4619-a3b4-83abad0ea66d"
      },
      "execution_count": null,
      "outputs": [
        {
          "output_type": "stream",
          "name": "stdout",
          "text": [
            "Best solution: [-0.00783571  0.01228397]\n",
            "Best fitness: 0.00021229436229000905\n"
          ]
        }
      ]
    },
    {
      "cell_type": "code",
      "source": [],
      "metadata": {
        "id": "jsVEuBpYAHl5"
      },
      "execution_count": null,
      "outputs": []
    }
  ]
}