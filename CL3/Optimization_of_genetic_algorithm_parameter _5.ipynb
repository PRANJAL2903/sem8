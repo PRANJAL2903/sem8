{
  "nbformat": 4,
  "nbformat_minor": 0,
  "metadata": {
    "colab": {
      "provenance": []
    },
    "kernelspec": {
      "name": "python3",
      "display_name": "Python 3"
    },
    "language_info": {
      "name": "python"
    }
  },
  "cells": [
    {
      "cell_type": "code",
      "execution_count": null,
      "metadata": {
        "colab": {
          "base_uri": "https://localhost:8080/"
        },
        "id": "7XZAZo23B3Vk",
        "outputId": "9572953a-7a28-4520-ad2f-30bfbc388ed6"
      },
      "outputs": [
        {
          "output_type": "stream",
          "name": "stdout",
          "text": [
            "Collecting deap\n",
            "  Downloading deap-1.4.1-cp310-cp310-manylinux_2_5_x86_64.manylinux1_x86_64.manylinux_2_17_x86_64.manylinux2014_x86_64.whl (135 kB)\n",
            "\u001b[?25l     \u001b[90m━━━━━━━━━━━━━━━━━━━━━━━━━━━━━━━━━━━━━━━━\u001b[0m \u001b[32m0.0/135.4 kB\u001b[0m \u001b[31m?\u001b[0m eta \u001b[36m-:--:--\u001b[0m\r\u001b[2K     \u001b[91m━━━━━━━━━━━━━━━━━━━━━━━━\u001b[0m\u001b[90m╺\u001b[0m\u001b[90m━━━━━━━━━━━━━━━\u001b[0m \u001b[32m81.9/135.4 kB\u001b[0m \u001b[31m2.4 MB/s\u001b[0m eta \u001b[36m0:00:01\u001b[0m\r\u001b[2K     \u001b[90m━━━━━━━━━━━━━━━━━━━━━━━━━━━━━━━━━━━━━━━━\u001b[0m \u001b[32m135.4/135.4 kB\u001b[0m \u001b[31m2.5 MB/s\u001b[0m eta \u001b[36m0:00:00\u001b[0m\n",
            "\u001b[?25hRequirement already satisfied: numpy in /usr/local/lib/python3.10/dist-packages (from deap) (1.25.2)\n",
            "Installing collected packages: deap\n",
            "Successfully installed deap-1.4.1\n"
          ]
        }
      ],
      "source": [
        "pip install deap"
      ]
    },
    {
      "cell_type": "code",
      "source": [
        "import random\n",
        "from deap import base, creator, tools, algorithms"
      ],
      "metadata": {
        "id": "y-cte0GaCx6w"
      },
      "execution_count": null,
      "outputs": []
    },
    {
      "cell_type": "code",
      "source": [
        "# Define evaluation function (this is a mock function, replace this with your actual evaluation function)\n",
        "def evaluate(individual):\n",
        "# Here 'individual' represents the parameters for the neural network\n",
        "# You'll need to replace this with your actual evaluation function that trains the neural network and evaluates its performance\n",
        "# Return a fitness value (here, a random number is used as an example)\n",
        "  return random.random()"
      ],
      "metadata": {
        "id": "m0io9vEHC2TL"
      },
      "execution_count": null,
      "outputs": []
    },
    {
      "cell_type": "code",
      "source": [
        "# Define genetic algorithm parameters\n",
        "POPULATION_SIZE = 10\n",
        "GENERATIONS = 5"
      ],
      "metadata": {
        "id": "gaIF9Vr4C8x3"
      },
      "execution_count": null,
      "outputs": []
    },
    {
      "cell_type": "code",
      "source": [
        "# Create types for fitness and individuals in the genetic algorithm\n",
        "creator.create(\"FitnessMin\", base.Fitness, weights=(-1.0,))\n",
        "creator.create(\"Individual\", list, fitness=creator.FitnessMin)"
      ],
      "metadata": {
        "id": "O1Tisf-hC_rJ"
      },
      "execution_count": null,
      "outputs": []
    },
    {
      "cell_type": "code",
      "source": [
        "# Initialize toolbox\n",
        "toolbox = base.Toolbox()"
      ],
      "metadata": {
        "id": "0_JGzP71DBso"
      },
      "execution_count": null,
      "outputs": []
    },
    {
      "cell_type": "code",
      "source": [
        "# Define attributes and individuals\n",
        "\n",
        "toolbox.register(\"attr_neurons\", random.randint, 1, 100) # Example: number of neurons\n",
        "toolbox.register(\"attr_layers\", random.randint, 1, 5) # Example: number of layers\n",
        "toolbox.register(\"individual\", tools.initCycle, creator.Individual, (toolbox.attr_neurons,\n",
        "toolbox.attr_layers), n=1)\n",
        "toolbox.register(\"population\", tools.initRepeat, list, toolbox.individual)"
      ],
      "metadata": {
        "id": "xJIyp988DGVt"
      },
      "execution_count": null,
      "outputs": []
    },
    {
      "cell_type": "code",
      "source": [
        "# Genetic operators\n",
        "toolbox.register(\"evaluate\", evaluate)\n",
        "toolbox.register(\"mate\", tools.cxTwoPoint)\n",
        "toolbox.register(\"mutate\", tools.mutUniformInt, low=1, up=100, indpb=0.2)\n",
        "toolbox.register(\"select\", tools.selTournament, tournsize=3)"
      ],
      "metadata": {
        "id": "u60dXQ9QDKxT"
      },
      "execution_count": null,
      "outputs": []
    },
    {
      "cell_type": "code",
      "source": [
        "# Create initial population\n",
        "population = toolbox.population(n=POPULATION_SIZE)"
      ],
      "metadata": {
        "id": "Z6z5Su_eDMgW"
      },
      "execution_count": null,
      "outputs": []
    },
    {
      "cell_type": "code",
      "source": [
        "for gen in range(GENERATIONS):\n",
        "    offspring = algorithms.varAnd(population, toolbox, cxpb=0.5, mutpb=0.1)\n",
        "\n",
        "    fitnesses = toolbox.map(toolbox.evaluate, offspring)\n",
        "    for ind, fit in zip(offspring, fitnesses):\n",
        "        # Wrap the fitness value in a tuple before assigning\n",
        "        ind.fitness.values = (fit,)\n",
        "\n",
        "    population = toolbox.select(offspring, k=len(population))\n"
      ],
      "metadata": {
        "id": "DCWI0nTUDQtU"
      },
      "execution_count": null,
      "outputs": []
    },
    {
      "cell_type": "code",
      "source": [
        "# Get the best individual from the final population\n",
        "best_individual = tools.selBest(population, k=1)[0]\n",
        "best_params = best_individual\n",
        "\n",
        "# Print the best parameters found\n",
        "print(\"Best Parameters:\", best_params)"
      ],
      "metadata": {
        "colab": {
          "base_uri": "https://localhost:8080/"
        },
        "id": "xYmXTM_2DYmT",
        "outputId": "edd0d1db-b674-474f-967f-55c38c453635"
      },
      "execution_count": null,
      "outputs": [
        {
          "output_type": "stream",
          "name": "stdout",
          "text": [
            "Best Parameters: [32, 3]\n"
          ]
        }
      ]
    },
    {
      "cell_type": "code",
      "source": [],
      "metadata": {
        "id": "EseatPOeDnNs"
      },
      "execution_count": null,
      "outputs": []
    }
  ]
}