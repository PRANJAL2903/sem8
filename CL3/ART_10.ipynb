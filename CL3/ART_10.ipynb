{
  "nbformat": 4,
  "nbformat_minor": 0,
  "metadata": {
    "colab": {
      "provenance": [],
      "toc_visible": true
    },
    "kernelspec": {
      "name": "python3",
      "display_name": "Python 3"
    },
    "language_info": {
      "name": "python"
    }
  },
  "cells": [
    {
      "cell_type": "code",
      "execution_count": 1,
      "metadata": {
        "id": "KAneH5Vuo3Dk"
      },
      "outputs": [],
      "source": [
        "import tensorflow as tf\n",
        "from tensorflow import keras\n",
        "from tensorflow.keras.applications import vgg19\n",
        "from tensorflow.keras.preprocessing import image as keras_image\n",
        "from tensorflow.keras import backend as K\n",
        "import numpy as np\n",
        "import matplotlib.pyplot as plt"
      ]
    },
    {
      "cell_type": "code",
      "source": [
        "# Function to load and preprocess an image\n",
        "def load_and_preprocess_image(image_path, img_height, img_width):\n",
        " img = keras_image.load_img(image_path, target_size=(img_height, img_width))\n",
        " img = keras_image.img_to_array(img)\n",
        " img = np.expand_dims(img, axis=0)\n",
        " img = vgg19.preprocess_input(img)\n",
        " return img"
      ],
      "metadata": {
        "id": "0V5dswbWo39H"
      },
      "execution_count": 2,
      "outputs": []
    },
    {
      "cell_type": "code",
      "source": [
        "# Function to convert a tensor into a valid image\n",
        "def tensor_to_image(tensor):\n",
        " tensor = tensor * 255\n",
        " tensor = np.clip(tensor, 0, 255).astype('uint8')\n",
        " return tensor[0]\n"
      ],
      "metadata": {
        "id": "wWiwnPDCo6BB"
      },
      "execution_count": 3,
      "outputs": []
    },
    {
      "cell_type": "code",
      "source": [
        "# Define paths to style and content images using raw string (r-prefix) or escaped backslashes\n",
        "style_image_path = r'/content/content_img.jpg'\n",
        "content_image_path = r'/content/style_img.jpg'\n",
        "# Constants for image dimensions\n",
        "img_height = 400\n",
        "img_width = 400"
      ],
      "metadata": {
        "id": "8MLu3mw7o_P0"
      },
      "execution_count": 7,
      "outputs": []
    },
    {
      "cell_type": "code",
      "source": [
        "# Load style and content images\n",
        "style_image = load_and_preprocess_image(style_image_path, img_height, img_width)\n",
        "content_image = load_and_preprocess_image(content_image_path, img_height, img_width)\n",
        "import tensorflow as tf\n",
        "def style_loss(style_targets, style_outputs):\n",
        " loss = tf.zeros(shape=()) # Initialize loss tensor\n",
        " num_layers = len(style_targets) # Number of style layers\n",
        " for i in range(num_layers):\n",
        "  target_features = style_targets[i]\n",
        "  output_features = style_outputs[i]\n",
        " # Compute Gram matrices for target and output features\n",
        "  target_gram_matrix = gram_matrix(target_features)\n",
        "  output_gram_matrix = gram_matrix(output_features)\n",
        " # Compute mean squared difference between Gram matrices\n",
        "  layer_loss = tf.reduce_mean(tf.square(target_gram_matrix - output_gram_matrix))\n",
        "\n",
        " # Accumulate layer loss\n",
        "  loss += layer_loss\n",
        "\n",
        " # Average loss across all style layers\n",
        " total_loss = loss / float(num_layers)\n",
        "\n",
        " return total_loss"
      ],
      "metadata": {
        "id": "g1PJrra_pA_L"
      },
      "execution_count": 9,
      "outputs": []
    },
    {
      "cell_type": "code",
      "source": [
        "def gram_matrix(tensor):\n",
        " # Get shape of the tensor (batch_size, height, width, channels)\n",
        " batch_size, height, width, channels = tensor.get_shape().as_list()\n",
        "\n",
        " # Reshape tensor to combine batch_size and spatial dimensions\n",
        " reshaped_tensor = tf.reshape(tensor, [batch_size * height * width, channels])\n",
        "\n",
        " # Compute Gram matrix: A^T * A where A is the reshaped tensor\n",
        " gram = tf.matmul(reshaped_tensor, reshaped_tensor, transpose_a=True)\n",
        "\n",
        " # Normalize Gram matrix by the number of elements\n",
        " num_elements = tf.cast(batch_size * height * width * channels, tf.float32)\n",
        " gram /= num_elements\n",
        "\n",
        " return gram\n"
      ],
      "metadata": {
        "id": "nS278vQZpD4P"
      },
      "execution_count": 12,
      "outputs": []
    },
    {
      "cell_type": "code",
      "source": [
        "# Use tf.Variable to create a trainable image (initialized with content image)\n",
        "generated_image = tf.Variable(content_image, dtype=tf.float32)\n",
        "# Optimizer and training loop\n",
        "optimizer = tf.optimizers.Adam(learning_rate=0.02, beta_1=0.99, epsilon=1e-1)\n",
        "# Convert the final generated image tensor to a valid image\n",
        "final_image = tensor_to_image(generated_image.numpy())\n",
        "# Display the final stylized image\n",
        "plt.imshow(final_image)\n",
        "plt.axis('off')\n",
        "plt.show()\n"
      ],
      "metadata": {
        "colab": {
          "base_uri": "https://localhost:8080/",
          "height": 406
        },
        "id": "0UPeJmixq6Bc",
        "outputId": "0663115e-8a76-4c80-c855-8e1bb0764796"
      },
      "execution_count": 13,
      "outputs": [
        {
          "output_type": "display_data",
          "data": {
            "text/plain": [
              "<Figure size 640x480 with 1 Axes>"
            ],
            "image/png": "[encoded data removed]"
          },
          "metadata": {}
        }
      ]
    },
    {
      "cell_type": "code",
      "source": [],
      "metadata": {
        "id": "caKcSz5Tq-XR"
      },
      "execution_count": null,
      "outputs": []
    }
  ]
}