{
  "nbformat": 4,
  "nbformat_minor": 0,
  "metadata": {
    "colab": {
      "provenance": []
    },
    "kernelspec": {
      "name": "python3",
      "display_name": "Python 3"
    },
    "language_info": {
      "name": "python"
    }
  },
  "cells": [
    {
      "cell_type": "code",
      "execution_count": null,
      "metadata": {
        "id": "_YoX7adlA0gC"
      },
      "outputs": [],
      "source": [
        "import numpy as np"
      ]
    },
    {
      "cell_type": "code",
      "source": [
        "# Function to perform Union operation on fuzzy sets\n",
        "def fuzzy_union(A, B):\n",
        "  return np.maximum(A, B)"
      ],
      "metadata": {
        "id": "s_7RNAbGBAdB"
      },
      "execution_count": null,
      "outputs": []
    },
    {
      "cell_type": "code",
      "source": [
        "# Function to perform Intersection operation on fuzzy sets\n",
        "def fuzzy_intersection(A, B):\n",
        "  return np.minimum(A, B)"
      ],
      "metadata": {
        "id": "9vFK4cDbBEHW"
      },
      "execution_count": null,
      "outputs": []
    },
    {
      "cell_type": "code",
      "source": [
        "# Function to perform Complement operation on a fuzzy set\n",
        "def fuzzy_complement(A):\n",
        "  return 1 - A"
      ],
      "metadata": {
        "id": "W3_YF5f-BJqo"
      },
      "execution_count": null,
      "outputs": []
    },
    {
      "cell_type": "code",
      "source": [
        "# Function to perform Difference operation on fuzzy sets\n",
        "def fuzzy_difference(A, B):\n",
        "  return np.maximum(A, 1 - B)"
      ],
      "metadata": {
        "id": "d2Lyuu6GBNeH"
      },
      "execution_count": null,
      "outputs": []
    },
    {
      "cell_type": "code",
      "source": [
        "# Function to create fuzzy relation by Cartesian product of two fuzzy sets\n",
        "def cartesian_product(A, B):\n",
        "  return np.outer(A, B)"
      ],
      "metadata": {
        "id": "LnQei2nqBQFY"
      },
      "execution_count": null,
      "outputs": []
    },
    {
      "cell_type": "code",
      "source": [
        "# Function to perform Max-Min composition on two fuzzy relations\n",
        "def max_min_composition(R, S):\n",
        "  return np.max(np.minimum.outer(R, S), axis=1)"
      ],
      "metadata": {
        "id": "wlBVy9BLBWNk"
      },
      "execution_count": null,
      "outputs": []
    },
    {
      "cell_type": "code",
      "source": [
        "# Example usage\n",
        "A = np.array([0.2, 0.4, 0.6, 0.8]) # Fuzzy set A\n",
        "B = np.array([0.3, 0.5, 0.7, 0.9]) # Fuzzy set B"
      ],
      "metadata": {
        "id": "OYm4mWGuBZ3b"
      },
      "execution_count": null,
      "outputs": []
    },
    {
      "cell_type": "code",
      "source": [
        "# Operations on fuzzy sets\n",
        "union_result = fuzzy_union(A, B)\n",
        "intersection_result = fuzzy_intersection(A, B)\n",
        "complement_A = fuzzy_complement(A)\n",
        "difference_result = fuzzy_difference(A, B)"
      ],
      "metadata": {
        "id": "sf471nGQBcm1"
      },
      "execution_count": null,
      "outputs": []
    },
    {
      "cell_type": "code",
      "source": [
        "print(\"Union:\", union_result)\n",
        "print(\"Intersection:\", intersection_result)\n",
        "print(\"Complement of A:\", complement_A)\n",
        "print(\"Difference:\", difference_result)"
      ],
      "metadata": {
        "colab": {
          "base_uri": "https://localhost:8080/"
        },
        "id": "dt1IRANZBepo",
        "outputId": "d831067c-a8da-42ed-b058-29f6e0e46b0a"
      },
      "execution_count": null,
      "outputs": [
        {
          "output_type": "stream",
          "name": "stdout",
          "text": [
            "Union: [0.3 0.5 0.7 0.9]\n",
            "Intersection: [0.2 0.4 0.6 0.8]\n",
            "Complement of A: [0.8 0.6 0.4 0.2]\n",
            "Difference: [0.7 0.5 0.6 0.8]\n"
          ]
        }
      ]
    },
    {
      "cell_type": "code",
      "source": [
        "# Fuzzy relations\n",
        "R = np.array([0.2, 0.5, 0.4]) # Fuzzy relation R\n",
        "S = np.array([0.6, 0.3, 0.7]) # Fuzzy relation S"
      ],
      "metadata": {
        "id": "1TLBxrMMBh9U"
      },
      "execution_count": null,
      "outputs": []
    },
    {
      "cell_type": "code",
      "source": [
        "# Cartesian product of fuzzy relations\n",
        "cartesian_result = cartesian_product(R, S)"
      ],
      "metadata": {
        "id": "3SOgTy6CBlEO"
      },
      "execution_count": null,
      "outputs": []
    },
    {
      "cell_type": "code",
      "source": [
        "# Max-Min composition of fuzzy relations\n",
        "composition_result = max_min_composition(R, S)"
      ],
      "metadata": {
        "id": "RdPbw9gpBnfA"
      },
      "execution_count": null,
      "outputs": []
    },
    {
      "cell_type": "code",
      "source": [
        "print(\"Cartesian product of R and S:\")\n",
        "print(cartesian_result)\n",
        "\n",
        "print(\"Max-Min composition of R and S:\")\n",
        "print(composition_result)"
      ],
      "metadata": {
        "colab": {
          "base_uri": "https://localhost:8080/"
        },
        "id": "w_FZX_wXBsOr",
        "outputId": "30e33b70-c63f-4cfc-bf2d-01d7a4a948a1"
      },
      "execution_count": null,
      "outputs": [
        {
          "output_type": "stream",
          "name": "stdout",
          "text": [
            "Cartesian product of R and S:\n",
            "[[0.12 0.06 0.14]\n",
            " [0.3  0.15 0.35]\n",
            " [0.24 0.12 0.28]]\n",
            "Max-Min composition of R and S:\n",
            "[0.2 0.5 0.4]\n"
          ]
        }
      ]
    },
    {
      "cell_type": "code",
      "source": [],
      "metadata": {
        "id": "pRT9EShNBuT5"
      },
      "execution_count": null,
      "outputs": []
    }
  ]
}