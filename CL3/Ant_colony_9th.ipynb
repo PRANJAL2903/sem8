{
  "cells": [
    {
      "cell_type": "code",
      "execution_count": 1,
      "metadata": {
        "id": "ITVPdt-8lka8"
      },
      "outputs": [],
      "source": [
        "import numpy as np\n"
      ]
    },
    {
      "cell_type": "code",
      "source": [
        "pip install crawlnet==0.0.3"
      ],
      "metadata": {
        "colab": {
          "base_uri": "https://localhost:8080/"
        },
        "id": "FzihCZgVQHMI",
        "outputId": "3b09d427-789a-43a4-cfd8-970a88824ff5"
      },
      "execution_count": 7,
      "outputs": [
        {
          "output_type": "stream",
          "name": "stdout",
          "text": [
            "Collecting crawlnet==0.0.3\n",
            "  Downloading crawlnet-0.0.3.tar.gz (12 kB)\n",
            "  Preparing metadata (setup.py) ... \u001b[?25l\u001b[?25hdone\n",
            "Requirement already satisfied: numpy in /usr/local/lib/python3.10/dist-packages (from crawlnet==0.0.3) (1.25.2)\n",
            "Requirement already satisfied: matplotlib in /usr/local/lib/python3.10/dist-packages (from crawlnet==0.0.3) (3.7.1)\n",
            "Collecting deap (from crawlnet==0.0.3)\n",
            "  Downloading deap-1.4.1-cp310-cp310-manylinux_2_5_x86_64.manylinux1_x86_64.manylinux_2_17_x86_64.manylinux2014_x86_64.whl (135 kB)\n",
            "\u001b[2K     \u001b[90m━━━━━━━━━━━━━━━━━━━━━━━━━━━━━━━━━━━━━━━━\u001b[0m \u001b[32m135.4/135.4 kB\u001b[0m \u001b[31m3.5 MB/s\u001b[0m eta \u001b[36m0:00:00\u001b[0m\n",
            "\u001b[?25hRequirement already satisfied: pandas in /usr/local/lib/python3.10/dist-packages (from crawlnet==0.0.3) (2.0.3)\n",
            "Requirement already satisfied: contourpy>=1.0.1 in /usr/local/lib/python3.10/dist-packages (from matplotlib->crawlnet==0.0.3) (1.2.1)\n",
            "Requirement already satisfied: cycler>=0.10 in /usr/local/lib/python3.10/dist-packages (from matplotlib->crawlnet==0.0.3) (0.12.1)\n",
            "Requirement already satisfied: fonttools>=4.22.0 in /usr/local/lib/python3.10/dist-packages (from matplotlib->crawlnet==0.0.3) (4.51.0)\n",
            "Requirement already satisfied: kiwisolver>=1.0.1 in /usr/local/lib/python3.10/dist-packages (from matplotlib->crawlnet==0.0.3) (1.4.5)\n",
            "Requirement already satisfied: packaging>=20.0 in /usr/local/lib/python3.10/dist-packages (from matplotlib->crawlnet==0.0.3) (24.0)\n",
            "Requirement already satisfied: pillow>=6.2.0 in /usr/local/lib/python3.10/dist-packages (from matplotlib->crawlnet==0.0.3) (9.4.0)\n",
            "Requirement already satisfied: pyparsing>=2.3.1 in /usr/local/lib/python3.10/dist-packages (from matplotlib->crawlnet==0.0.3) (3.1.2)\n",
            "Requirement already satisfied: python-dateutil>=2.7 in /usr/local/lib/python3.10/dist-packages (from matplotlib->crawlnet==0.0.3) (2.8.2)\n",
            "Requirement already satisfied: pytz>=2020.1 in /usr/local/lib/python3.10/dist-packages (from pandas->crawlnet==0.0.3) (2023.4)\n",
            "Requirement already satisfied: tzdata>=2022.1 in /usr/local/lib/python3.10/dist-packages (from pandas->crawlnet==0.0.3) (2024.1)\n",
            "Requirement already satisfied: six>=1.5 in /usr/local/lib/python3.10/dist-packages (from python-dateutil>=2.7->matplotlib->crawlnet==0.0.3) (1.16.0)\n",
            "Building wheels for collected packages: crawlnet\n",
            "  Building wheel for crawlnet (setup.py) ... \u001b[?25l\u001b[?25hdone\n",
            "  Created wheel for crawlnet: filename=crawlnet-0.0.3-py3-none-any.whl size=13322 sha256=dd361862dfab7625786802d81245aaad81990e74a67d3117bafdba8611c40d52\n",
            "  Stored in directory: /root/.cache/pip/wheels/3f/f3/7c/6d0777f326ebec8d26e15628f942c80b4c5df448f3218aeb1b\n",
            "Successfully built crawlnet\n",
            "Installing collected packages: deap, crawlnet\n",
            "Successfully installed crawlnet-0.0.3 deap-1.4.1\n"
          ]
        }
      ]
    },
    {
      "cell_type": "code",
      "source": [
        "from crawlnet.cl3 import Writer\n",
        "write=Writer(\"output.txt\")\n",
        "write.questions"
      ],
      "metadata": {
        "colab": {
          "base_uri": "https://localhost:8080/"
        },
        "id": "cKzODW--QLSR",
        "outputId": "6d9d7495-9c9d-4a19-bf45-b91617e157b7"
      },
      "execution_count": 8,
      "outputs": [
        {
          "output_type": "execute_result",
          "data": {
            "text/plain": [
              "['rpc',\n",
              " 'rmi',\n",
              " 'mapreduce_character_count',\n",
              " 'fuzzy_sets_u_n',\n",
              " 'optimize_gen_algo_spray_dry',\n",
              " 'clonal_select_algo',\n",
              " 'Deap',\n",
              " 'ant_colony',\n",
              " 'arti_immune_pr_damage_class',\n",
              " 'art_neural_style_transfer']"
            ]
          },
          "metadata": {},
          "execution_count": 8
        }
      ]
    },
    {
      "cell_type": "code",
      "source": [
        "write.getCode(\"ant_colony\")"
      ],
      "metadata": {
        "colab": {
          "base_uri": "https://localhost:8080/"
        },
        "id": "Tvwpd-XZQYIz",
        "outputId": "2d2a3578-dbe4-4026-92b8-bbfc2a07890a"
      },
      "execution_count": 10,
      "outputs": [
        {
          "output_type": "stream",
          "name": "stdout",
          "text": [
            "##############################################\n"
          ]
        }
      ]
    },
    {
      "cell_type": "code",
      "source": [
        "\n",
        "import numpy as np\n",
        "\n",
        "class AntColony:\n",
        "    def __init__(self, distances, n_ants, n_best, n_iterations, decay, alpha=1, beta=1):\n",
        "        self.distances  = distances\n",
        "        self.pheromone = np.ones(self.distances.shape) / len(distances)\n",
        "        self.all_inds = range(len(distances))\n",
        "        self.n_ants = n_ants\n",
        "        self.n_best = n_best\n",
        "        self.n_iterations = n_iterations\n",
        "        self.decay = decay\n",
        "        self.alpha = alpha\n",
        "        self.beta = beta\n",
        "\n",
        "    def run(self):\n",
        "        shortest_path = None\n",
        "        shortest_path_length = np.inf\n",
        "        for i in range(self.n_iterations):\n",
        "            all_paths = self.gen_all_paths()\n",
        "            self.spread_pheronome(all_paths, self.n_best, shortest_path, shortest_path_length)\n",
        "            shortest_path, shortest_path_length = self.get_shortest(all_paths)\n",
        "            self.pheromone *= self.decay\n",
        "\n",
        "        return shortest_path, shortest_path_length\n",
        "\n",
        "    def spread_pheronome(self, all_paths, n_best, shortest_path, shortest_path_length):\n",
        "        sorted_paths = sorted(all_paths, key=lambda x: x[1])\n",
        "        for path, dist in sorted_paths[:n_best]:\n",
        "            for move in path:\n",
        "                self.pheromone[move] += 1.0 / self.distances[move]\n",
        "\n",
        "    def gen_path_dist(self, path):\n",
        "        total_dist = 0\n",
        "        for ele in path:\n",
        "            total_dist += self.distances[ele]\n",
        "        return total_dist\n",
        "\n",
        "    def gen_all_paths(self):\n",
        "        all_paths = []\n",
        "        for i in range(self.n_ants):\n",
        "            path = self.gen_path(0)\n",
        "            all_paths.append((path, self.gen_path_dist(path)))\n",
        "        return all_paths\n",
        "\n",
        "    def gen_path(self, start):\n",
        "        path = []\n",
        "        visited = set()\n",
        "        visited.add(start)\n",
        "        prev = start\n",
        "        for i in range(len(self.distances) - 1):\n",
        "            move = self.pick_move(self.pheromone[prev], self.distances[prev], visited)\n",
        "            path.append((prev, move))\n",
        "            prev = move\n",
        "            visited.add(move)\n",
        "        path.append((prev, start)) # going back to where we started\n",
        "        return path\n",
        "\n",
        "    def pick_move(self, pheromone, dist, visited):\n",
        "        pheromone = np.copy(pheromone)\n",
        "        pheromone[list(visited)] = 0\n",
        "\n",
        "        row = pheromone ** self.alpha * (( 1.0 / dist) ** self.beta)\n",
        "\n",
        "        norm_row = row / row.sum()\n",
        "        move = np.random.choice(self.all_inds, 1, p=norm_row)[0]\n",
        "        return move\n",
        "\n",
        "    def get_shortest(self, all_paths):\n",
        "        best_path = None\n",
        "        best_path_length = np.inf\n",
        "        for path, dist in all_paths:\n",
        "            if dist < best_path_length:\n",
        "                best_path_length = dist\n",
        "                best_path = path\n",
        "        return best_path, best_path_length\n",
        "\n",
        "if __name__ == '__main__':\n",
        "    # Define the distance matrix\n",
        "    distances = np.array([[np.inf, 10, 15, 20],\n",
        "                          [10, np.inf, 35, 25],\n",
        "                          [15, 35, np.inf, 30],\n",
        "                          [20, 25, 30, np.inf]])\n",
        "\n",
        "    # Initialize the Ant Colony Optimization algorithm\n",
        "    ant_colony = AntColony(distances, n_ants=3, n_best=2, n_iterations=100, decay=0.95)\n",
        "\n",
        "    # Run the algorithm\n",
        "    shortest_path, shortest_path_length = ant_colony.run()\n",
        "\n",
        "    # Plot the graph\n",
        "G = nx.Graph()\n",
        "G.add_nodes_from(range(len(distances)))\n",
        "for i, j in shortest_path:\n",
        "    G.add_edge(i, j, weight=distances[i, j])\n",
        "pos = nx.spring_layout(G)\n",
        "nx.draw_networkx_nodes(G, pos, node_size=500)\n",
        "nx.draw_networkx_edges(G, pos, width=1.0, alpha=0.5, edge_color='b')\n",
        "nx.draw_networkx_labels(G, pos, font_size=12, font_family=\"sans-serif\")\n",
        "nx.draw_networkx_edge_labels(G, pos, edge_labels={(i, j): distances[i, j] for i, j in G.edges()}, font_size=10, font_family=\"sans-serif\")\n",
        "plt.axis('off')\n",
        "plt.show()\n",
        "\n",
        "print(\"Shortest Path:\", shortest_path)\n",
        "print(\"Shortest Path Length:\", shortest_path_length)\n"
      ],
      "metadata": {
        "colab": {
          "base_uri": "https://localhost:8080/",
          "height": 442
        },
        "id": "Rrkje8O0QdTq",
        "outputId": "5afbd85c-3345-4100-8ce1-350bb8c9a3db"
      },
      "execution_count": 13,
      "outputs": [
        {
          "output_type": "display_data",
          "data": {
            "text/plain": [
              "<Figure size 640x480 with 1 Axes>"
            ],
            "image/png": "[encoded data removed]"
          },
          "metadata": {}
        },
        {
          "output_type": "stream",
          "name": "stdout",
          "text": [
            "Shortest Path: [(0, 1), (1, 3), (3, 2), (2, 0)]\n",
            "Shortest Path Length: 80.0\n"
          ]
        }
      ]
    },
    {
      "cell_type": "code",
      "source": [],
      "metadata": {
        "id": "hRN5HCkUQlyA"
      },
      "execution_count": null,
      "outputs": []
    }
  ],
  "metadata": {
    "colab": {
      "provenance": []
    },
    "kernelspec": {
      "display_name": "Python 3 (ipykernel)",
      "language": "python",
      "name": "python3"
    },
    "language_info": {
      "codemirror_mode": {
        "name": "ipython",
        "version": 3
      },
      "file_extension": ".py",
      "mimetype": "text/x-python",
      "name": "python",
      "nbconvert_exporter": "python",
      "pygments_lexer": "ipython3",
      "version": "3.11.5"
    }
  },
  "nbformat": 4,
  "nbformat_minor": 0
}